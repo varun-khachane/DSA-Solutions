{
 "cells": [
  {
   "cell_type": "code",
   "execution_count": 1,
   "metadata": {},
   "outputs": [],
   "source": [
    "# Question 1\n",
    "# Power Set\n",
    "\n",
    "def powerset1(list,powerset = []):\n",
    "    l1 = list.copy()\n",
    "    if list not in powerset:\n",
    "        powerset.append(list)\n",
    "    for i in list:\n",
    "        l1.remove(i)\n",
    "        powerset1(l1)\n",
    "        l1 = list.copy()\n",
    "    powerset.sort(key = len)\n",
    "    return powerset    \n"
   ]
  },
  {
   "cell_type": "code",
   "execution_count": 2,
   "metadata": {},
   "outputs": [
    {
     "data": {
      "text/plain": [
       "[[], [3], [2], [1], [2, 3], [1, 3], [1, 2], [1, 2, 3]]"
      ]
     },
     "execution_count": 2,
     "metadata": {},
     "output_type": "execute_result"
    }
   ],
   "source": [
    "list = [1,2,3]\n",
    "powerset1(list)"
   ]
  },
  {
   "cell_type": "code",
   "execution_count": 3,
   "metadata": {},
   "outputs": [],
   "source": [
    "# Question 2\n",
    "# Staircase Traversal\n",
    "\n",
    "''' If we consider the height of the staircase to be h and the max steps you can take is s then to reach top we can take \n",
    "1 step at a time from (h-1)th step or 2 steps at a time from (h-2)th step and so on s steps at a time from (h-s)th step.\n",
    "Now to reach (h-1)th step again we can either take 1 step at a time from ((h-1)-1)th step and so on. Doing this recursively\n",
    "will take us to the 1st step and 2nd step. So number of ways of climbing the first step is one that is by taking one step at\n",
    "a time. Number of ways of climbing the 2nd step is either taking 1 step from step 1 to reach step 2 or directly climbing to \n",
    "step 2 from ground(if we can take 2 steps at a time ). So that gives us two ways to climb step 2 and similarly we calculate \n",
    "the rest of the steps. '''\n",
    "\n",
    "\n",
    "def staircase(height,maxs,num = 0):\n",
    "    num = num\n",
    "    if height == 0:\n",
    "        return num+1\n",
    "    elif height == 1:\n",
    "        return num+1\n",
    "    elif height > 0:\n",
    "        for i in range(1,maxs+1):\n",
    "            num = staircase(height-i,maxs,num) #staircase(h) = staircase(height-1)+staircase(height-2)+....+staircase(h-maxsteps)\n",
    "    return num"
   ]
  },
  {
   "cell_type": "code",
   "execution_count": 4,
   "metadata": {},
   "outputs": [
    {
     "data": {
      "text/plain": [
       "4"
      ]
     },
     "execution_count": 4,
     "metadata": {},
     "output_type": "execute_result"
    }
   ],
   "source": [
    "staircase(3,3)"
   ]
  },
  {
   "cell_type": "code",
   "execution_count": 5,
   "metadata": {},
   "outputs": [],
   "source": [
    "# Question 3\n",
    "# Phone Number Mnemonics\n",
    "\n",
    "def alphaMapping(digit):            # dict storing letters corresponding to the digits\n",
    "    mapping = { 0:['0'],1:['1'],\n",
    "                2:['a','b','c'],\n",
    "                3:['d','e','f'],\n",
    "                4:['g','h','i'],\n",
    "                5:['j','k','l'],\n",
    "                6:['m','n','o'],\n",
    "                7:['p','q','r','s'],\n",
    "                8:['t','u','v'],\n",
    "                9:['w','x','y','z'] }\n",
    "    return mapping[digit]\n",
    "\n",
    "def arrange(listo,combolist=[],pair=\"\"):   # this function returns all possible combinations of the given characters. \n",
    "    list1 = listo.copy()\n",
    "    l1 = list1.pop(0)\n",
    "    pair1 = pair\n",
    "    for i in l1:\n",
    "        if len(list1) == 0:\n",
    "            pair1+=i\n",
    "            combolist.append(pair1)\n",
    "            pair1 = pair\n",
    "            \n",
    "        else:\n",
    "            pair1+=i\n",
    "            arrange(list1,combolist,pair1)\n",
    "            pair1 = pair\n",
    "            \n",
    "    \n",
    "    return combolist\n",
    "\n",
    "\n",
    "def findMnemonics(phno):\n",
    "    combo = []\n",
    "    for i in phno:\n",
    "        j = int(i)\n",
    "        x = alphaMapping(j)\n",
    "        combo.append(x)\n",
    "    mnemonics = arrange(combo,[])\n",
    "    return mnemonics"
   ]
  },
  {
   "cell_type": "code",
   "execution_count": 6,
   "metadata": {},
   "outputs": [
    {
     "data": {
      "text/plain": [
       "['1w0j',\n",
       " '1w0k',\n",
       " '1w0l',\n",
       " '1x0j',\n",
       " '1x0k',\n",
       " '1x0l',\n",
       " '1y0j',\n",
       " '1y0k',\n",
       " '1y0l',\n",
       " '1z0j',\n",
       " '1z0k',\n",
       " '1z0l']"
      ]
     },
     "execution_count": 6,
     "metadata": {},
     "output_type": "execute_result"
    }
   ],
   "source": [
    "findMnemonics(\"1905\")"
   ]
  },
  {
   "cell_type": "code",
   "execution_count": null,
   "metadata": {},
   "outputs": [],
   "source": []
  }
 ],
 "metadata": {
  "kernelspec": {
   "display_name": "Python 3",
   "language": "python",
   "name": "python3"
  },
  "language_info": {
   "codemirror_mode": {
    "name": "ipython",
    "version": 3
   },
   "file_extension": ".py",
   "mimetype": "text/x-python",
   "name": "python",
   "nbconvert_exporter": "python",
   "pygments_lexer": "ipython3",
   "version": "3.7.6"
  }
 },
 "nbformat": 4,
 "nbformat_minor": 4
}
