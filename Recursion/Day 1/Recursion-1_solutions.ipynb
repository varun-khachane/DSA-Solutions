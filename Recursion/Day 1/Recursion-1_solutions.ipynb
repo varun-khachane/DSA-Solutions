{
 "cells": [
  {
   "cell_type": "code",
   "execution_count": 1,
   "metadata": {},
   "outputs": [],
   "source": [
    "# Question 1\n",
    "# Nth Fibonacci\n",
    "\n",
    "def fibonacci(n):\n",
    "    if n == 1:\n",
    "        return 0\n",
    "    elif n == 2:\n",
    "        return 1\n",
    "    else:\n",
    "        return fibonacci(n-1) + fibonacci(n-2)"
   ]
  },
  {
   "cell_type": "code",
   "execution_count": 2,
   "metadata": {},
   "outputs": [
    {
     "data": {
      "text/plain": [
       "13"
      ]
     },
     "execution_count": 2,
     "metadata": {},
     "output_type": "execute_result"
    }
   ],
   "source": [
    "fibonacci(8)"
   ]
  },
  {
   "cell_type": "code",
   "execution_count": 3,
   "metadata": {},
   "outputs": [],
   "source": [
    "# Question 2\n",
    "# Product Sum\n",
    "\n",
    "def productSum(n,j=1):\n",
    "    product = 0 # equated to zero as in every invocation new list is passes and product is respectice to that list or sublist\n",
    "    k = j #for storing depth\n",
    "    for i in n:\n",
    "        if type(i) == int:\n",
    "            product+=i\n",
    "        else:\n",
    "            k+=1\n",
    "            product = product + (productSum(i,k)*k)\n",
    "            k = j # resetting depth value for adjacent lists\n",
    "    return product"
   ]
  },
  {
   "cell_type": "code",
   "execution_count": 4,
   "metadata": {},
   "outputs": [
    {
     "data": {
      "text/plain": [
       "719"
      ]
     },
     "execution_count": 4,
     "metadata": {},
     "output_type": "execute_result"
    }
   ],
   "source": [
    "list = [1,[2,[3,[4,[5]]]]]\n",
    "productSum(list)"
   ]
  },
  {
   "cell_type": "code",
   "execution_count": 5,
   "metadata": {},
   "outputs": [],
   "source": [
    "# Question 3\n",
    "# Permutations\n",
    "\n",
    "def permutation(list,pairlist,finallist):\n",
    "    charlist = pairlist.copy() # list to store the set characters in the list for permutation of next characters.\n",
    "    l1 = list.copy()  # duplicate list so that the remove() function doesnt affect the original list.\n",
    "    if len(list) == 1:\n",
    "        charlist.append(list[0])\n",
    "        finallist.append(charlist) # once all characters are set after recursion we append the pair in the final list.\n",
    "    elif len(list) >= 2:\n",
    "        for i in list:\n",
    "            charlist.append(i) #setting the character and removing it from the list so that further combinations can be set.\n",
    "            l1.remove(i)\n",
    "            permutation(l1,charlist,finallist)\n",
    "            charlist = pairlist.copy() #resetting the list for next combination.\n",
    "            l1 = list.copy() #resetting list for next combination.\n",
    "    return finallist #this will not affect mid recursion as we are not storing the return value in the function.\n",
    "\n",
    "def findPermutations(list):\n",
    "    return permutation(list,[],[])\n"
   ]
  },
  {
   "cell_type": "code",
   "execution_count": 6,
   "metadata": {},
   "outputs": [
    {
     "data": {
      "text/plain": [
       "[[1, 2, 3], [1, 3, 2], [2, 1, 3], [2, 3, 1], [3, 1, 2], [3, 2, 1]]"
      ]
     },
     "execution_count": 6,
     "metadata": {},
     "output_type": "execute_result"
    }
   ],
   "source": [
    "list = [1,2,3]\n",
    "findPermutations(list)"
   ]
  },
  {
   "cell_type": "code",
   "execution_count": null,
   "metadata": {},
   "outputs": [],
   "source": []
  }
 ],
 "metadata": {
  "kernelspec": {
   "display_name": "Python 3",
   "language": "python",
   "name": "python3"
  },
  "language_info": {
   "codemirror_mode": {
    "name": "ipython",
    "version": 3
   },
   "file_extension": ".py",
   "mimetype": "text/x-python",
   "name": "python",
   "nbconvert_exporter": "python",
   "pygments_lexer": "ipython3",
   "version": "3.7.6"
  }
 },
 "nbformat": 4,
 "nbformat_minor": 4
}
